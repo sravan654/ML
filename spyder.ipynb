{
 "cells": [
  {
   "cell_type": "code",
   "execution_count": 8,
   "metadata": {
    "collapsed": false
   },
   "outputs": [
    {
     "name": "stdout",
     "output_type": "stream",
     "text": [
      "0\n",
      "1\n",
      "0\n",
      "['http://nytimes.com', 'http://nytimes.com#top-news', 'http://nytimes.com#site-index-navigation']\n"
     ]
    }
   ],
   "source": [
    "#from urllib.parse import urlparse\n",
    "import urllib\n",
    "from urllib.request import urlopen\n",
    "from bs4 import BeautifulSoup\n",
    "\n",
    "url = \"http://nytimes.com\"\n",
    "\n",
    "urls = [url]\n",
    "visited = [url]\n",
    "\n",
    "while len(urls) > 0:\n",
    "    try:\n",
    "        htmltext = urlopen(urls[0]).read()\n",
    "        #print(htmltext)\n",
    "    except:\n",
    "        print(urls[0])\n",
    "    soup = BeautifulSoup(htmltext,\"lxml\")\n",
    "    \n",
    "    urls.pop(0)\n",
    "    print(len(urls))\n",
    "    \n",
    "    for tag in soup.find_all('a',href=True):\n",
    "        tag['href'] = urllib.parse.urljoin(url, tag['href'])\n",
    "        if url in tag['href'] and tag['href'] not in visited:\n",
    "            urls.append(tag['href'])\n",
    "            visited.append(tag['href'])\n",
    "   \n",
    "print(visited)\n",
    "\n",
    "    "
   ]
  },
  {
   "cell_type": "code",
   "execution_count": null,
   "metadata": {
    "collapsed": true
   },
   "outputs": [],
   "source": []
  }
 ],
 "metadata": {
  "kernelspec": {
   "display_name": "Python 3",
   "language": "python",
   "name": "python3"
  },
  "language_info": {
   "codemirror_mode": {
    "name": "ipython",
    "version": 3
   },
   "file_extension": ".py",
   "mimetype": "text/x-python",
   "name": "python",
   "nbconvert_exporter": "python",
   "pygments_lexer": "ipython3",
   "version": "3.5.1"
  }
 },
 "nbformat": 4,
 "nbformat_minor": 0
}
