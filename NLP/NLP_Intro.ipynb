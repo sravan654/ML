{
 "cells": [
  {
   "cell_type": "code",
   "execution_count": 9,
   "metadata": {
    "collapsed": false
   },
   "outputs": [
    {
     "name": "stdout",
     "output_type": "stream",
     "text": [
      "Hello\n",
      ",\n",
      "How\n",
      "are\n",
      "you\n",
      "doing\n",
      "?\n",
      "how\n",
      "was\n",
      "your\n",
      "graduation\n",
      "day\n",
      "?\n",
      "huh\n",
      ",\n",
      "you\n",
      "r\n",
      "Mr.\n",
      "smart\n",
      ".\n",
      "And\n",
      "you\n",
      "are\n",
      "looking\n",
      "Handsome-cute\n",
      ".\n",
      "bhlah..\n",
      "blahblah\n"
     ]
    }
   ],
   "source": [
    "from nltk.tokenize import sent_tokenize, word_tokenize\n",
    "\n",
    "text = \"Hello, How are you doing? how was your graduation day? huh, you r Mr. smart. And you are looking Handsome-cute. bhlah..   blahblah\"\n",
    "\n",
    "#print(sent_tokenize(text))\n",
    "#print(word_tokenize(text))\n",
    "\n",
    "for i in word_tokenize(text):\n",
    "    print(i)"
   ]
  },
  {
   "cell_type": "code",
   "execution_count": null,
   "metadata": {
    "collapsed": true
   },
   "outputs": [],
   "source": []
  }
 ],
 "metadata": {
  "kernelspec": {
   "display_name": "Python 3",
   "language": "python",
   "name": "python3"
  },
  "language_info": {
   "codemirror_mode": {
    "name": "ipython",
    "version": 3
   },
   "file_extension": ".py",
   "mimetype": "text/x-python",
   "name": "python",
   "nbconvert_exporter": "python",
   "pygments_lexer": "ipython3",
   "version": "3.5.1"
  }
 },
 "nbformat": 4,
 "nbformat_minor": 0
}
