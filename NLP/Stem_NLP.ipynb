{
 "cells": [
  {
   "cell_type": "code",
   "execution_count": 3,
   "metadata": {
    "collapsed": false
   },
   "outputs": [
    {
     "name": "stdout",
     "output_type": "stream",
     "text": [
      "Luke\n",
      "Luck\n",
      "like\n",
      "lakes.Luk\n",
      "'s\n",
      "duck\n",
      "like\n",
      "lakes.Luk\n",
      "Luck\n",
      "lick\n",
      "lakes.Luck\n",
      "'s\n",
      "duck\n",
      "lick\n",
      "lakes.Duck\n",
      "take\n",
      "lick\n",
      "in\n",
      "lake\n",
      "Luke\n",
      "Luck\n",
      "likes.Luk\n",
      "Luck\n",
      "take\n",
      "lick\n",
      "in\n",
      "lake\n",
      "duck\n",
      "like\n",
      ".\n"
     ]
    }
   ],
   "source": [
    "from nltk.stem import PorterStemmer\n",
    "from nltk.tokenize import word_tokenize\n",
    "\n",
    "text = \"The batmen should bat the batting and bowler should bowl the ball and the b.\"\n",
    "\n",
    "ps = PorterStemmer()\n",
    "\n",
    "for w in word_tokenize(text):\n",
    "    print(ps.stem(w))\n",
    "    "
   ]
  },
  {
   "cell_type": "code",
   "execution_count": null,
   "metadata": {
    "collapsed": true
   },
   "outputs": [],
   "source": []
  }
 ],
 "metadata": {
  "kernelspec": {
   "display_name": "Python 3",
   "language": "python",
   "name": "python3"
  },
  "language_info": {
   "codemirror_mode": {
    "name": "ipython",
    "version": 3
   },
   "file_extension": ".py",
   "mimetype": "text/x-python",
   "name": "python",
   "nbconvert_exporter": "python",
   "pygments_lexer": "ipython3",
   "version": "3.5.1"
  }
 },
 "nbformat": 4,
 "nbformat_minor": 0
}
