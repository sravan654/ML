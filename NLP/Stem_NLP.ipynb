{
 "cells": [
  {
   "cell_type": "code",
   "execution_count": 4,
   "metadata": {
    "collapsed": false
   },
   "outputs": [
    {
     "name": "stdout",
     "output_type": "stream",
     "text": [
      "The\n",
      "batmen\n",
      "should\n",
      "bat\n",
      "the\n",
      "bat\n",
      "and\n",
      "bowler\n",
      "should\n",
      "bowl\n",
      "the\n",
      "ball\n",
      "and\n",
      "not\n",
      "bat\n",
      "sinc\n",
      "he\n",
      "is\n",
      "a\n",
      "bowler\n",
      "and\n",
      "not\n",
      "a\n",
      "batsmen\n",
      ".\n"
     ]
    }
   ],
   "source": [
    "from nltk.stem import PorterStemmer\n",
    "from nltk.tokenize import word_tokenize\n",
    "\n",
    "text = \"The batmen should bat the batting and bowler should bowl the ball and not bat since he is a bowler and not a batsmen.\"\n",
    "\n",
    "ps = PorterStemmer()\n",
    "\n",
    "for w in word_tokenize(text):\n",
    "    print(ps.stem(w))\n",
    "    "
   ]
  },
  {
   "cell_type": "code",
   "execution_count": null,
   "metadata": {
    "collapsed": true
   },
   "outputs": [],
   "source": []
  }
 ],
 "metadata": {
  "kernelspec": {
   "display_name": "Python 3",
   "language": "python",
   "name": "python3"
  },
  "language_info": {
   "codemirror_mode": {
    "name": "ipython",
    "version": 3
   },
   "file_extension": ".py",
   "mimetype": "text/x-python",
   "name": "python",
   "nbconvert_exporter": "python",
   "pygments_lexer": "ipython3",
   "version": "3.5.1"
  }
 },
 "nbformat": 4,
 "nbformat_minor": 0
}
