{
 "cells": [
  {
   "cell_type": "code",
   "execution_count": 15,
   "metadata": {
    "collapsed": false,
    "scrolled": true
   },
   "outputs": [
    {
     "name": "stdout",
     "output_type": "stream",
     "text": [
      "[b'The New York Times - Breaking News, World News & Multimedia']\n",
      "[b'Google']\n",
      "[b'CNN - Breaking News, U.S., World, Weather, Entertainment & Video News']\n",
      "[]\n",
      "[b'YouTube']\n"
     ]
    }
   ],
   "source": [
    "from urllib.request import urlopen\n",
    "import re\n",
    "\n",
    "url = [\"http://nytimes.com\",\"http://google.com\",\"http://cnn.com\",\"http://facebook.com\",\"http://youtube.com\"]\n",
    "regex = b\"<title>(.+?)</title>\"\n",
    "pattern = re.compile(regex)\n",
    "\n",
    "i = 0\n",
    "\n",
    "while i < len(url):\n",
    "    html = urlopen(url[i])\n",
    "    htmltext = html.read()\n",
    "    title = re.findall(pattern, htmltext)\n",
    "    print(title)\n",
    "    i+=1\n",
    "    "
   ]
  },
  {
   "cell_type": "code",
   "execution_count": null,
   "metadata": {
    "collapsed": true
   },
   "outputs": [],
   "source": []
  }
 ],
 "metadata": {
  "kernelspec": {
   "display_name": "Python 3",
   "language": "python",
   "name": "python3"
  },
  "language_info": {
   "codemirror_mode": {
    "name": "ipython",
    "version": 3
   },
   "file_extension": ".py",
   "mimetype": "text/x-python",
   "name": "python",
   "nbconvert_exporter": "python",
   "pygments_lexer": "ipython3",
   "version": "3.5.1"
  }
 },
 "nbformat": 4,
 "nbformat_minor": 0
}
